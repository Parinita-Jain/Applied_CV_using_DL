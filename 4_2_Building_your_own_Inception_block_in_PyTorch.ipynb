{
  "nbformat": 4,
  "nbformat_minor": 0,
  "metadata": {
    "colab": {
      "provenance": [],
      "machine_shape": "hm",
      "include_colab_link": true
    },
    "kernelspec": {
      "name": "python3",
      "display_name": "Python 3"
    },
    "accelerator": "GPU"
  },
  "cells": [
    {
      "cell_type": "markdown",
      "metadata": {
        "id": "view-in-github",
        "colab_type": "text"
      },
      "source": [
        "<a href=\"https://colab.research.google.com/github/Parinita-Jain/Applied_CV_using_DL/blob/main/4_2_Building_your_own_Inception_block_in_PyTorch.ipynb\" target=\"_parent\"><img src=\"https://colab.research.google.com/assets/colab-badge.svg\" alt=\"Open In Colab\"/></a>"
      ]
    },
    {
      "cell_type": "code",
      "metadata": {
        "id": "55pJBItvziyB"
      },
      "source": [
        "# importing torch library\n",
        "import torch\n",
        "import torch.nn as nn"
      ],
      "execution_count": null,
      "outputs": []
    },
    {
      "cell_type": "markdown",
      "metadata": {
        "id": "6N19L6KnUbNn"
      },
      "source": [
        "![alt text](https://drive.google.com/uc?id=1TFsgpU85odiPUff0gomm5POKaXOUonwr)"
      ]
    },
    {
      "cell_type": "code",
      "metadata": {
        "id": "hyfMLeqpzdPw"
      },
      "source": [
        "# defining the inception module \n",
        "class Inception(nn.Module):\n",
        "    def __init__(self, in_channels):\n",
        "        super(Inception, self).__init__()\n",
        "        \n",
        "        # defining the first 1X1 branch of inception module\n",
        "        self.branch1 = nn.Conv2d(in_channels, 16, kernel_size=1)\n",
        "\n",
        "        # defining the second 3X3 branch with dimensionality reduction module\n",
        "        self.branch2 = nn.Sequential(\n",
        "            nn.Conv2d(in_channels, 16, kernel_size=1),\n",
        "            nn.Conv2d(16, 24, kernel_size=3, padding=1)\n",
        "        )\n",
        "\n",
        "        # defining the third 5X5 branch with dimensionality reduction module\n",
        "        self.branch3 = nn.Sequential(\n",
        "            nn.Conv2d(in_channels, 16, kernel_size=1),\n",
        "            nn.Conv2d(16, 24, kernel_size=5, padding=2)\n",
        "        )\n",
        "\n",
        "        # defining the fourth max pooling branch with dimensionality reduction module\n",
        "        self.branch4 = nn.Sequential(\n",
        "            nn.MaxPool2d(kernel_size=3, stride=1, padding=1, ceil_mode=True),\n",
        "            # ceil_mode: https://stackoverflow.com/questions/59906456/in-pytorchs-maxpool2d-is-padding-added-depending-on-ceil-mode\n",
        "            nn.Conv2d(in_channels, 3, kernel_size=1)\n",
        "        )\n",
        "\n",
        "    # defining the forward pass\n",
        "    def _forward(self, x):\n",
        "        branch1 = self.branch1(x)\n",
        "        branch2 = self.branch2(x)\n",
        "        branch3 = self.branch3(x)\n",
        "        branch4 = self.branch4(x)\n",
        "\n",
        "        # storing the output in a list\n",
        "        outputs = [branch1, branch2, branch3, branch4]\n",
        "        return outputs\n",
        "\n",
        "    def forward(self, x):\n",
        "        outputs = self._forward(x)\n",
        "        # returning the concatenated output\n",
        "        return torch.cat(outputs, 1)"
      ],
      "execution_count": null,
      "outputs": []
    },
    {
      "cell_type": "code",
      "metadata": {
        "id": "MaritlgwzeEG",
        "outputId": "8bc9f347-c8cd-4e4b-99bd-5eba2ab00e61",
        "colab": {
          "base_uri": "https://localhost:8080/",
          "height": 278
        }
      },
      "source": [
        "# summary of the defined inception module\n",
        "Inception(in_channels=3)"
      ],
      "execution_count": null,
      "outputs": [
        {
          "output_type": "execute_result",
          "data": {
            "text/plain": [
              "Inception(\n",
              "  (branch1): Conv2d(3, 16, kernel_size=(1, 1), stride=(1, 1))\n",
              "  (branch2): Sequential(\n",
              "    (0): Conv2d(3, 16, kernel_size=(1, 1), stride=(1, 1))\n",
              "    (1): Conv2d(16, 24, kernel_size=(3, 3), stride=(1, 1), padding=(1, 1))\n",
              "  )\n",
              "  (branch3): Sequential(\n",
              "    (0): Conv2d(3, 16, kernel_size=(1, 1), stride=(1, 1))\n",
              "    (1): Conv2d(16, 24, kernel_size=(5, 5), stride=(1, 1), padding=(2, 2))\n",
              "  )\n",
              "  (branch4): Sequential(\n",
              "    (0): MaxPool2d(kernel_size=3, stride=1, padding=1, dilation=1, ceil_mode=True)\n",
              "    (1): Conv2d(3, 3, kernel_size=(1, 1), stride=(1, 1))\n",
              "  )\n",
              ")"
            ]
          },
          "metadata": {
            "tags": []
          },
          "execution_count": 3
        }
      ]
    },
    {
      "cell_type": "code",
      "metadata": {
        "id": "hAuIxRoCVV-g",
        "outputId": "f822df58-567f-4fb8-d4c7-6495d1b9bf49",
        "colab": {
          "base_uri": "https://localhost:8080/",
          "height": 34
        }
      },
      "source": [
        "# initializing a random image\n",
        "random_image = torch.randn(1, 3, 224, 224)\n",
        "random_image.shape"
      ],
      "execution_count": null,
      "outputs": [
        {
          "output_type": "execute_result",
          "data": {
            "text/plain": [
              "torch.Size([1, 3, 224, 224])"
            ]
          },
          "metadata": {
            "tags": []
          },
          "execution_count": 5
        }
      ]
    },
    {
      "cell_type": "code",
      "metadata": {
        "id": "6ETVxOA7zd9A"
      },
      "source": [
        "# passing the image to the inception block and generating the output\n",
        "output = Inception(in_channels=random_image.shape[1]).forward(random_image)"
      ],
      "execution_count": null,
      "outputs": []
    },
    {
      "cell_type": "code",
      "metadata": {
        "id": "ApGeK4KLeQbX",
        "outputId": "d84bbed0-cd60-4b20-c221-bd46ab339f16",
        "colab": {
          "base_uri": "https://localhost:8080/",
          "height": 34
        }
      },
      "source": [
        "# shape of the output\n",
        "output.shape"
      ],
      "execution_count": null,
      "outputs": [
        {
          "output_type": "execute_result",
          "data": {
            "text/plain": [
              "torch.Size([1, 67, 224, 224])"
            ]
          },
          "metadata": {
            "tags": []
          },
          "execution_count": 7
        }
      ]
    },
    {
      "cell_type": "code",
      "metadata": {
        "id": "DCaRwB9adJ_Z"
      },
      "source": [
        "# generating the branch-wise output\n",
        "branch_output = Inception(in_channels=random_image.shape[1])._forward(random_image)"
      ],
      "execution_count": null,
      "outputs": []
    },
    {
      "cell_type": "code",
      "metadata": {
        "id": "-8Sa1F3dXLge",
        "outputId": "e2c36335-90dc-4fc5-b8af-f5c0616c974b",
        "colab": {
          "base_uri": "https://localhost:8080/",
          "height": 34
        }
      },
      "source": [
        "# length of branch_output\n",
        "len(branch_output)"
      ],
      "execution_count": null,
      "outputs": [
        {
          "output_type": "execute_result",
          "data": {
            "text/plain": [
              "4"
            ]
          },
          "metadata": {
            "tags": []
          },
          "execution_count": 10
        }
      ]
    },
    {
      "cell_type": "code",
      "metadata": {
        "id": "9MXAyh0heV52",
        "outputId": "5d6715a6-4e4b-4841-acf6-2d1af948ab60",
        "colab": {
          "base_uri": "https://localhost:8080/",
          "height": 34
        }
      },
      "source": [
        "# shape of output from the first 1 X 1 branch\n",
        "branch_output[0].shape"
      ],
      "execution_count": null,
      "outputs": [
        {
          "output_type": "execute_result",
          "data": {
            "text/plain": [
              "torch.Size([1, 16, 224, 224])"
            ]
          },
          "metadata": {
            "tags": []
          },
          "execution_count": 11
        }
      ]
    },
    {
      "cell_type": "code",
      "metadata": {
        "id": "wI1uIe-9eLfa",
        "outputId": "acde7825-73ab-4950-a5f8-2ae18bbac151",
        "colab": {
          "base_uri": "https://localhost:8080/",
          "height": 34
        }
      },
      "source": [
        "# shape of output from the second 3 X 3 brach\n",
        "branch_output[1].shape"
      ],
      "execution_count": null,
      "outputs": [
        {
          "output_type": "execute_result",
          "data": {
            "text/plain": [
              "torch.Size([1, 24, 224, 224])"
            ]
          },
          "metadata": {
            "tags": []
          },
          "execution_count": 12
        }
      ]
    },
    {
      "cell_type": "code",
      "metadata": {
        "id": "rL7vz6y2DcaK",
        "outputId": "11306782-3095-4bc6-d06b-637cb19767f9",
        "colab": {
          "base_uri": "https://localhost:8080/",
          "height": 34
        }
      },
      "source": [
        "# shape of output from the third 5 X 5 brach\n",
        "branch_output[2].shape"
      ],
      "execution_count": null,
      "outputs": [
        {
          "output_type": "execute_result",
          "data": {
            "text/plain": [
              "torch.Size([1, 24, 224, 224])"
            ]
          },
          "metadata": {
            "tags": []
          },
          "execution_count": 13
        }
      ]
    },
    {
      "cell_type": "code",
      "metadata": {
        "id": "KMxojdZXDkBv",
        "outputId": "81f0aef9-4e1e-4301-a5b7-5fd367505930",
        "colab": {
          "base_uri": "https://localhost:8080/",
          "height": 34
        }
      },
      "source": [
        "# shape of output from the fourth max pool brach\n",
        "branch_output[3].shape"
      ],
      "execution_count": null,
      "outputs": [
        {
          "output_type": "execute_result",
          "data": {
            "text/plain": [
              "torch.Size([1, 3, 224, 224])"
            ]
          },
          "metadata": {
            "tags": []
          },
          "execution_count": 14
        }
      ]
    },
    {
      "cell_type": "code",
      "metadata": {
        "id": "Pn4_bCYCgcBg"
      },
      "source": [],
      "execution_count": null,
      "outputs": []
    }
  ]
}